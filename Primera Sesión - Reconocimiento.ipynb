{
  "cells": [
    {
      "metadata": {},
      "cell_type": "markdown",
      "source": "# Econometría básica con Python"
    },
    {
      "metadata": {},
      "cell_type": "markdown",
      "source": "Fabián Alejandro Triana Alarcón\n\nfatrianaa@unal.edu.co\n\nEconomista. Estudiante de Maestría en Ciencias Económicas.\n\nUniversidad Nacional de Colombia."
    },
    {
      "metadata": {},
      "cell_type": "markdown",
      "source": "# Primera Sesión: Reconocimiento del entorno y las herramientas"
    },
    {
      "metadata": {
        "collapsed": true
      },
      "cell_type": "markdown",
      "source": "## Tipos de variables"
    },
    {
      "metadata": {},
      "cell_type": "markdown",
      "source": "### Números enteros:"
    },
    {
      "metadata": {
        "trusted": true
      },
      "cell_type": "code",
      "source": "x = 4",
      "execution_count": 1,
      "outputs": []
    },
    {
      "metadata": {
        "trusted": true
      },
      "cell_type": "code",
      "source": "type(4)",
      "execution_count": 2,
      "outputs": [
        {
          "output_type": "execute_result",
          "execution_count": 2,
          "data": {
            "text/plain": "int"
          },
          "metadata": {}
        }
      ]
    },
    {
      "metadata": {},
      "cell_type": "markdown",
      "source": "### Números decimales:"
    },
    {
      "metadata": {
        "trusted": true
      },
      "cell_type": "code",
      "source": "x = 4.0",
      "execution_count": 3,
      "outputs": []
    },
    {
      "metadata": {
        "trusted": true
      },
      "cell_type": "code",
      "source": "type(x)",
      "execution_count": 4,
      "outputs": [
        {
          "output_type": "execute_result",
          "execution_count": 4,
          "data": {
            "text/plain": "float"
          },
          "metadata": {}
        }
      ]
    },
    {
      "metadata": {},
      "cell_type": "markdown",
      "source": "### Strings:"
    },
    {
      "metadata": {
        "trusted": true
      },
      "cell_type": "code",
      "source": "y = 'Palabra'",
      "execution_count": 5,
      "outputs": []
    },
    {
      "metadata": {
        "trusted": true
      },
      "cell_type": "code",
      "source": "type(y)",
      "execution_count": 6,
      "outputs": [
        {
          "output_type": "execute_result",
          "execution_count": 6,
          "data": {
            "text/plain": "str"
          },
          "metadata": {}
        }
      ]
    },
    {
      "metadata": {
        "trusted": true
      },
      "cell_type": "code",
      "source": "Palabra = 'Palabra'",
      "execution_count": 7,
      "outputs": []
    },
    {
      "metadata": {
        "trusted": true
      },
      "cell_type": "code",
      "source": "type(Palabra)",
      "execution_count": 8,
      "outputs": [
        {
          "output_type": "execute_result",
          "execution_count": 8,
          "data": {
            "text/plain": "str"
          },
          "metadata": {}
        }
      ]
    },
    {
      "metadata": {},
      "cell_type": "markdown",
      "source": "### Booleanos (falso/verdadero)"
    },
    {
      "metadata": {
        "trusted": true
      },
      "cell_type": "code",
      "source": "z = False",
      "execution_count": 9,
      "outputs": []
    },
    {
      "metadata": {
        "trusted": true
      },
      "cell_type": "code",
      "source": "type(z)",
      "execution_count": 10,
      "outputs": [
        {
          "output_type": "execute_result",
          "execution_count": 10,
          "data": {
            "text/plain": "bool"
          },
          "metadata": {}
        }
      ]
    },
    {
      "metadata": {
        "trusted": true
      },
      "cell_type": "code",
      "source": "z = 'False'",
      "execution_count": 11,
      "outputs": []
    },
    {
      "metadata": {
        "trusted": true
      },
      "cell_type": "code",
      "source": "type(z)",
      "execution_count": 12,
      "outputs": [
        {
          "output_type": "execute_result",
          "execution_count": 12,
          "data": {
            "text/plain": "str"
          },
          "metadata": {}
        }
      ]
    },
    {
      "metadata": {},
      "cell_type": "markdown",
      "source": "**Los booleanos tienen valor numérico**:\n\n* **True** vale **1**\n\n* **False** vale **0**"
    },
    {
      "metadata": {
        "trusted": true
      },
      "cell_type": "code",
      "source": "bool(z) > -1",
      "execution_count": 13,
      "outputs": [
        {
          "output_type": "execute_result",
          "execution_count": 13,
          "data": {
            "text/plain": "True"
          },
          "metadata": {}
        }
      ]
    },
    {
      "metadata": {},
      "cell_type": "markdown",
      "source": "**Números interpretados como strings**"
    },
    {
      "metadata": {
        "trusted": true
      },
      "cell_type": "code",
      "source": "str(1)+str(2)",
      "execution_count": 14,
      "outputs": [
        {
          "output_type": "execute_result",
          "execution_count": 14,
          "data": {
            "text/plain": "'12'"
          },
          "metadata": {}
        }
      ]
    },
    {
      "metadata": {},
      "cell_type": "markdown",
      "source": "## Operadores"
    },
    {
      "metadata": {
        "trusted": true
      },
      "cell_type": "code",
      "source": "x = 3\ny = 4",
      "execution_count": 15,
      "outputs": []
    },
    {
      "metadata": {
        "trusted": true
      },
      "cell_type": "code",
      "source": "x > y",
      "execution_count": 16,
      "outputs": [
        {
          "output_type": "execute_result",
          "execution_count": 16,
          "data": {
            "text/plain": "False"
          },
          "metadata": {}
        }
      ]
    },
    {
      "metadata": {
        "trusted": true
      },
      "cell_type": "code",
      "source": "y > x",
      "execution_count": 17,
      "outputs": [
        {
          "output_type": "execute_result",
          "execution_count": 17,
          "data": {
            "text/plain": "True"
          },
          "metadata": {}
        }
      ]
    },
    {
      "metadata": {
        "trusted": true
      },
      "cell_type": "code",
      "source": "y == x",
      "execution_count": 18,
      "outputs": [
        {
          "output_type": "execute_result",
          "execution_count": 18,
          "data": {
            "text/plain": "False"
          },
          "metadata": {}
        }
      ]
    },
    {
      "metadata": {
        "trusted": true
      },
      "cell_type": "code",
      "source": "y != x",
      "execution_count": 19,
      "outputs": [
        {
          "output_type": "execute_result",
          "execution_count": 19,
          "data": {
            "text/plain": "True"
          },
          "metadata": {}
        }
      ]
    },
    {
      "metadata": {
        "trusted": true
      },
      "cell_type": "code",
      "source": "(y == x) < (y != x)",
      "execution_count": 20,
      "outputs": [
        {
          "output_type": "execute_result",
          "execution_count": 20,
          "data": {
            "text/plain": "True"
          },
          "metadata": {}
        }
      ]
    },
    {
      "metadata": {
        "trusted": true
      },
      "cell_type": "code",
      "source": "(y != x) + (y != x) == 2",
      "execution_count": 21,
      "outputs": [
        {
          "output_type": "execute_result",
          "execution_count": 21,
          "data": {
            "text/plain": "True"
          },
          "metadata": {}
        }
      ]
    },
    {
      "metadata": {
        "trusted": true
      },
      "cell_type": "code",
      "source": "Palabra == 'Palabra'",
      "execution_count": 22,
      "outputs": [
        {
          "output_type": "execute_result",
          "execution_count": 22,
          "data": {
            "text/plain": "True"
          },
          "metadata": {}
        }
      ]
    },
    {
      "metadata": {},
      "cell_type": "markdown",
      "source": "**Ojo:** Python es *case-sensitive*"
    },
    {
      "metadata": {
        "trusted": true
      },
      "cell_type": "code",
      "source": "'Palabra' == 'palabra'",
      "execution_count": 23,
      "outputs": [
        {
          "output_type": "execute_result",
          "execution_count": 23,
          "data": {
            "text/plain": "False"
          },
          "metadata": {}
        }
      ]
    },
    {
      "metadata": {
        "trusted": true
      },
      "cell_type": "code",
      "source": "(4 > 3) & (5 > 4)",
      "execution_count": 24,
      "outputs": [
        {
          "output_type": "execute_result",
          "execution_count": 24,
          "data": {
            "text/plain": "True"
          },
          "metadata": {}
        }
      ]
    },
    {
      "metadata": {
        "trusted": true
      },
      "cell_type": "code",
      "source": "(4 > 3) & (3 > 5)",
      "execution_count": 25,
      "outputs": [
        {
          "output_type": "execute_result",
          "execution_count": 25,
          "data": {
            "text/plain": "False"
          },
          "metadata": {}
        }
      ]
    },
    {
      "metadata": {
        "trusted": true
      },
      "cell_type": "code",
      "source": "(4 > 3) | (3 > 5)",
      "execution_count": 26,
      "outputs": [
        {
          "output_type": "execute_result",
          "execution_count": 26,
          "data": {
            "text/plain": "True"
          },
          "metadata": {}
        }
      ]
    },
    {
      "metadata": {},
      "cell_type": "markdown",
      "source": "## Operaciones básicas:"
    },
    {
      "metadata": {
        "trusted": true
      },
      "cell_type": "code",
      "source": "x + y",
      "execution_count": 27,
      "outputs": [
        {
          "output_type": "execute_result",
          "execution_count": 27,
          "data": {
            "text/plain": "7"
          },
          "metadata": {}
        }
      ]
    },
    {
      "metadata": {
        "trusted": true
      },
      "cell_type": "code",
      "source": "x - y",
      "execution_count": 28,
      "outputs": [
        {
          "output_type": "execute_result",
          "execution_count": 28,
          "data": {
            "text/plain": "-1"
          },
          "metadata": {}
        }
      ]
    },
    {
      "metadata": {
        "trusted": true
      },
      "cell_type": "code",
      "source": "x / y",
      "execution_count": 29,
      "outputs": [
        {
          "output_type": "execute_result",
          "execution_count": 29,
          "data": {
            "text/plain": "0.75"
          },
          "metadata": {}
        }
      ]
    },
    {
      "metadata": {
        "trusted": true
      },
      "cell_type": "code",
      "source": "x*y",
      "execution_count": 30,
      "outputs": [
        {
          "output_type": "execute_result",
          "execution_count": 30,
          "data": {
            "text/plain": "12"
          },
          "metadata": {}
        }
      ]
    },
    {
      "metadata": {
        "trusted": true
      },
      "cell_type": "code",
      "source": "x//y",
      "execution_count": 31,
      "outputs": [
        {
          "output_type": "execute_result",
          "execution_count": 31,
          "data": {
            "text/plain": "0"
          },
          "metadata": {}
        }
      ]
    },
    {
      "metadata": {
        "trusted": true
      },
      "cell_type": "code",
      "source": "x**y",
      "execution_count": 32,
      "outputs": [
        {
          "output_type": "execute_result",
          "execution_count": 32,
          "data": {
            "text/plain": "81"
          },
          "metadata": {}
        }
      ]
    },
    {
      "metadata": {
        "trusted": true
      },
      "cell_type": "code",
      "source": "x%y",
      "execution_count": 33,
      "outputs": [
        {
          "output_type": "execute_result",
          "execution_count": 33,
          "data": {
            "text/plain": "3"
          },
          "metadata": {}
        }
      ]
    },
    {
      "metadata": {},
      "cell_type": "markdown",
      "source": "## Estructuras básicas:"
    },
    {
      "metadata": {},
      "cell_type": "markdown",
      "source": "### Lista"
    },
    {
      "metadata": {
        "trusted": true
      },
      "cell_type": "code",
      "source": "lista1 = [1, \"alpha\", 4]\nlista2 = [1, 3, 7, 9]",
      "execution_count": 34,
      "outputs": []
    },
    {
      "metadata": {
        "trusted": true
      },
      "cell_type": "code",
      "source": "lista1 + lista2",
      "execution_count": 35,
      "outputs": [
        {
          "output_type": "execute_result",
          "execution_count": 35,
          "data": {
            "text/plain": "[1, 'alpha', 4, 1, 3, 7, 9]"
          },
          "metadata": {}
        }
      ]
    },
    {
      "metadata": {
        "trusted": true
      },
      "cell_type": "code",
      "source": "lista1.append(7)",
      "execution_count": 36,
      "outputs": []
    },
    {
      "metadata": {
        "trusted": true
      },
      "cell_type": "code",
      "source": "lista1",
      "execution_count": 37,
      "outputs": [
        {
          "output_type": "execute_result",
          "execution_count": 37,
          "data": {
            "text/plain": "[1, 'alpha', 4, 7]"
          },
          "metadata": {}
        }
      ]
    },
    {
      "metadata": {
        "trusted": true
      },
      "cell_type": "code",
      "source": "lista1.remove(7)",
      "execution_count": 38,
      "outputs": []
    },
    {
      "metadata": {
        "trusted": true
      },
      "cell_type": "code",
      "source": "lista1",
      "execution_count": 39,
      "outputs": [
        {
          "output_type": "execute_result",
          "execution_count": 39,
          "data": {
            "text/plain": "[1, 'alpha', 4]"
          },
          "metadata": {}
        }
      ]
    },
    {
      "metadata": {},
      "cell_type": "markdown",
      "source": "### Tupla"
    },
    {
      "metadata": {},
      "cell_type": "markdown",
      "source": "Las tuplas son **inmutables**"
    },
    {
      "metadata": {
        "trusted": true
      },
      "cell_type": "code",
      "source": "tupla1 = (3,4)\ntupla2 = (2,6)",
      "execution_count": 40,
      "outputs": []
    },
    {
      "metadata": {},
      "cell_type": "markdown",
      "source": "### Diccionario"
    },
    {
      "metadata": {},
      "cell_type": "markdown",
      "source": "Son sistemas de pares de **clave** y **valor**"
    },
    {
      "metadata": {
        "trusted": true
      },
      "cell_type": "code",
      "source": "diccionario = {'Nombre': 'Fabián', 'Edad': 23, 'Carrera': 'Maestría en Ciencias Económicas'}",
      "execution_count": 41,
      "outputs": []
    },
    {
      "metadata": {
        "trusted": true
      },
      "cell_type": "code",
      "source": "diccionario.pop('Carrera', None)",
      "execution_count": 42,
      "outputs": [
        {
          "output_type": "execute_result",
          "execution_count": 42,
          "data": {
            "text/plain": "'Maestría en Ciencias Económicas'"
          },
          "metadata": {}
        }
      ]
    },
    {
      "metadata": {
        "trusted": true
      },
      "cell_type": "code",
      "source": "diccionario['Carrera'] = 'Mg. Eco'",
      "execution_count": 43,
      "outputs": []
    },
    {
      "metadata": {
        "trusted": true
      },
      "cell_type": "code",
      "source": "diccionario",
      "execution_count": 44,
      "outputs": [
        {
          "output_type": "execute_result",
          "execution_count": 44,
          "data": {
            "text/plain": "{'Nombre': 'Fabián', 'Edad': 23, 'Carrera': 'Mg. Eco'}"
          },
          "metadata": {}
        }
      ]
    },
    {
      "metadata": {},
      "cell_type": "markdown",
      "source": "### Condicionales y loops:"
    },
    {
      "metadata": {},
      "cell_type": "markdown",
      "source": "### Condicional if, elif, else:"
    },
    {
      "metadata": {
        "trusted": true
      },
      "cell_type": "code",
      "source": "x = input('Ingrese una contraseña: ')\ny = input('Nuevamente ingrese la contraseña: ')\nif x == y:\n    print('Contraseña correcta')\nelse:\n    y = input('Contraseña incorrecta. Intente nuevamente: ')",
      "execution_count": 46,
      "outputs": [
        {
          "output_type": "stream",
          "name": "stdout",
          "text": "Ingrese una contraseña: 100\nNuevamente ingrese la contraseña: 102\nContraseña incorrecta. Intente nuevamente: 100\n"
        }
      ]
    },
    {
      "metadata": {},
      "cell_type": "markdown",
      "source": "### While loop:"
    },
    {
      "metadata": {
        "trusted": true
      },
      "cell_type": "code",
      "source": "x = input('Ingrese una contraseña: ')\ny = input('Nuevamente ingrese la contraseña: ')\nwhile x != y:\n    y = input('La contraseña es incorrecta. Intente nuevamente: ')\nif x == y:\n    print('Contraseña correcta')",
      "execution_count": 47,
      "outputs": [
        {
          "output_type": "stream",
          "name": "stdout",
          "text": "Ingrese una contraseña: 100\nNuevamente ingrese la contraseña: 102\nLa contraseña es incorrecta. Intente nuevamente: 103\nLa contraseña es incorrecta. Intente nuevamente: 100\nContraseña correcta\n"
        }
      ]
    },
    {
      "metadata": {},
      "cell_type": "markdown",
      "source": "### For loop:"
    },
    {
      "metadata": {
        "trusted": true
      },
      "cell_type": "code",
      "source": "for i in range(20):\n    print('El valor de ', i, 'multiplicado por dos es', i*2)",
      "execution_count": 48,
      "outputs": [
        {
          "output_type": "stream",
          "text": "El valor de  0 multiplicado por dos es 0\nEl valor de  1 multiplicado por dos es 2\nEl valor de  2 multiplicado por dos es 4\nEl valor de  3 multiplicado por dos es 6\nEl valor de  4 multiplicado por dos es 8\nEl valor de  5 multiplicado por dos es 10\nEl valor de  6 multiplicado por dos es 12\nEl valor de  7 multiplicado por dos es 14\nEl valor de  8 multiplicado por dos es 16\nEl valor de  9 multiplicado por dos es 18\nEl valor de  10 multiplicado por dos es 20\nEl valor de  11 multiplicado por dos es 22\nEl valor de  12 multiplicado por dos es 24\nEl valor de  13 multiplicado por dos es 26\nEl valor de  14 multiplicado por dos es 28\nEl valor de  15 multiplicado por dos es 30\nEl valor de  16 multiplicado por dos es 32\nEl valor de  17 multiplicado por dos es 34\nEl valor de  18 multiplicado por dos es 36\nEl valor de  19 multiplicado por dos es 38\n",
          "name": "stdout"
        }
      ]
    },
    {
      "metadata": {},
      "cell_type": "markdown",
      "source": "## Funciones y métodos:"
    },
    {
      "metadata": {},
      "cell_type": "markdown",
      "source": "### Funciones:"
    },
    {
      "metadata": {
        "trusted": true
      },
      "cell_type": "code",
      "source": "def raiz(radicando, orden):\n    raiz = radicando**(1/orden)\n    return(raiz)",
      "execution_count": 49,
      "outputs": []
    },
    {
      "metadata": {},
      "cell_type": "markdown",
      "source": "### Métodos:"
    },
    {
      "metadata": {},
      "cell_type": "markdown",
      "source": "Se trata de funciones asociadas a una clase específica"
    },
    {
      "metadata": {
        "trusted": true
      },
      "cell_type": "code",
      "source": "class vector:\n    def __init__(self, mi_vector):\n        self.mi_vector = mi_vector\n    def valor_absoluto(self):\n        for i in range(len(self.mi_vector)):\n            if self.mi_vector[i] > 0:\n                self.mi_vector[i] = self.mi_vector[i]\n            else:\n                self.mi_vector[i] = -1 * self.mi_vector[i]\n        return(self.mi_vector)",
      "execution_count": 50,
      "outputs": []
    },
    {
      "metadata": {
        "trusted": true
      },
      "cell_type": "code",
      "source": "mi_vector = vector([-30,2, -5, -7])",
      "execution_count": 51,
      "outputs": []
    },
    {
      "metadata": {
        "trusted": true
      },
      "cell_type": "code",
      "source": "mi_vector.valor_absoluto()",
      "execution_count": 52,
      "outputs": [
        {
          "output_type": "execute_result",
          "execution_count": 52,
          "data": {
            "text/plain": "[30, 2, 5, 7]"
          },
          "metadata": {}
        }
      ]
    },
    {
      "metadata": {
        "trusted": true
      },
      "cell_type": "code",
      "source": "type(mi_vector)",
      "execution_count": 53,
      "outputs": [
        {
          "output_type": "execute_result",
          "execution_count": 53,
          "data": {
            "text/plain": "__main__.vector"
          },
          "metadata": {}
        }
      ]
    },
    {
      "metadata": {},
      "cell_type": "markdown",
      "source": "## Librerías:"
    },
    {
      "metadata": {},
      "cell_type": "markdown",
      "source": "## Numpy"
    },
    {
      "metadata": {},
      "cell_type": "markdown",
      "source": "Numpy es la libería en la que se encuentra el \"corazón\" **matemático** de las actividades a desarrollar. "
    },
    {
      "metadata": {
        "trusted": true
      },
      "cell_type": "code",
      "source": "import numpy as np",
      "execution_count": 54,
      "outputs": []
    },
    {
      "metadata": {},
      "cell_type": "markdown",
      "source": "### Matrices:"
    },
    {
      "metadata": {
        "trusted": true
      },
      "cell_type": "code",
      "source": "A = np.array([1, 2, 3])\nB = np.array([[2], \n              [4], \n              [6]])\nC = np.array([2, 4, 6])\nD = np.array([[1, 2], \n              [2, 4], \n              [3, 6]])\nE = np.array([[1,2,3], \n              [4,5,6], \n              [7,8,9]])\nF = np.array([[1,5,4], \n              [4,9,3], \n              [2,2,6]])",
      "execution_count": 55,
      "outputs": []
    },
    {
      "metadata": {
        "trusted": true
      },
      "cell_type": "code",
      "source": "A+C",
      "execution_count": 56,
      "outputs": [
        {
          "output_type": "execute_result",
          "execution_count": 56,
          "data": {
            "text/plain": "array([3, 6, 9])"
          },
          "metadata": {}
        }
      ]
    },
    {
      "metadata": {},
      "cell_type": "markdown",
      "source": "**La multiplicación de matrices NO se efectúa con el mismo operador que la multiplicación \"tradicional\"**"
    },
    {
      "metadata": {},
      "cell_type": "markdown",
      "source": "El siguiente código **no** es multiplicación matricial:"
    },
    {
      "metadata": {
        "trusted": true
      },
      "cell_type": "code",
      "source": "A*B",
      "execution_count": 57,
      "outputs": [
        {
          "output_type": "execute_result",
          "execution_count": 57,
          "data": {
            "text/plain": "array([[ 2,  4,  6],\n       [ 4,  8, 12],\n       [ 6, 12, 18]])"
          },
          "metadata": {}
        }
      ]
    },
    {
      "metadata": {},
      "cell_type": "markdown",
      "source": "El método `.dot()` es el que permite llevar a cabo la multiplicación de **matrices**."
    },
    {
      "metadata": {
        "trusted": true
      },
      "cell_type": "code",
      "source": "A.dot(B)",
      "execution_count": 58,
      "outputs": [
        {
          "output_type": "execute_result",
          "execution_count": 58,
          "data": {
            "text/plain": "array([28])"
          },
          "metadata": {}
        }
      ]
    },
    {
      "metadata": {},
      "cell_type": "markdown",
      "source": "Existen múltiples métodos para trabajar con matrices:"
    },
    {
      "metadata": {
        "trusted": true
      },
      "cell_type": "code",
      "source": "D.diagonal()",
      "execution_count": 59,
      "outputs": [
        {
          "output_type": "execute_result",
          "execution_count": 59,
          "data": {
            "text/plain": "array([1, 4])"
          },
          "metadata": {}
        }
      ]
    },
    {
      "metadata": {
        "trusted": true
      },
      "cell_type": "code",
      "source": "D.T",
      "execution_count": 60,
      "outputs": [
        {
          "output_type": "execute_result",
          "execution_count": 60,
          "data": {
            "text/plain": "array([[1, 2, 3],\n       [2, 4, 6]])"
          },
          "metadata": {}
        }
      ]
    },
    {
      "metadata": {},
      "cell_type": "markdown",
      "source": "Y funciones..."
    },
    {
      "metadata": {
        "trusted": true
      },
      "cell_type": "code",
      "source": "np.linalg.inv(E)",
      "execution_count": 61,
      "outputs": [
        {
          "output_type": "error",
          "ename": "LinAlgError",
          "evalue": "Singular matrix",
          "traceback": [
            "\u001b[0;31m---------------------------------------------------------------------------\u001b[0m",
            "\u001b[0;31mLinAlgError\u001b[0m                               Traceback (most recent call last)",
            "\u001b[0;32m<ipython-input-61-c11819f76c80>\u001b[0m in \u001b[0;36m<module>\u001b[0;34m\u001b[0m\n\u001b[0;32m----> 1\u001b[0;31m \u001b[0mnp\u001b[0m\u001b[0;34m.\u001b[0m\u001b[0mlinalg\u001b[0m\u001b[0;34m.\u001b[0m\u001b[0minv\u001b[0m\u001b[0;34m(\u001b[0m\u001b[0mE\u001b[0m\u001b[0;34m)\u001b[0m\u001b[0;34m\u001b[0m\u001b[0m\n\u001b[0m",
            "\u001b[0;32m~/anaconda3_501/lib/python3.6/site-packages/numpy/linalg/linalg.py\u001b[0m in \u001b[0;36minv\u001b[0;34m(a)\u001b[0m\n\u001b[1;32m    549\u001b[0m     \u001b[0msignature\u001b[0m \u001b[0;34m=\u001b[0m \u001b[0;34m'D->D'\u001b[0m \u001b[0;32mif\u001b[0m \u001b[0misComplexType\u001b[0m\u001b[0;34m(\u001b[0m\u001b[0mt\u001b[0m\u001b[0;34m)\u001b[0m \u001b[0;32melse\u001b[0m \u001b[0;34m'd->d'\u001b[0m\u001b[0;34m\u001b[0m\u001b[0m\n\u001b[1;32m    550\u001b[0m     \u001b[0mextobj\u001b[0m \u001b[0;34m=\u001b[0m \u001b[0mget_linalg_error_extobj\u001b[0m\u001b[0;34m(\u001b[0m\u001b[0m_raise_linalgerror_singular\u001b[0m\u001b[0;34m)\u001b[0m\u001b[0;34m\u001b[0m\u001b[0m\n\u001b[0;32m--> 551\u001b[0;31m     \u001b[0mainv\u001b[0m \u001b[0;34m=\u001b[0m \u001b[0m_umath_linalg\u001b[0m\u001b[0;34m.\u001b[0m\u001b[0minv\u001b[0m\u001b[0;34m(\u001b[0m\u001b[0ma\u001b[0m\u001b[0;34m,\u001b[0m \u001b[0msignature\u001b[0m\u001b[0;34m=\u001b[0m\u001b[0msignature\u001b[0m\u001b[0;34m,\u001b[0m \u001b[0mextobj\u001b[0m\u001b[0;34m=\u001b[0m\u001b[0mextobj\u001b[0m\u001b[0;34m)\u001b[0m\u001b[0;34m\u001b[0m\u001b[0m\n\u001b[0m\u001b[1;32m    552\u001b[0m     \u001b[0;32mreturn\u001b[0m \u001b[0mwrap\u001b[0m\u001b[0;34m(\u001b[0m\u001b[0mainv\u001b[0m\u001b[0;34m.\u001b[0m\u001b[0mastype\u001b[0m\u001b[0;34m(\u001b[0m\u001b[0mresult_t\u001b[0m\u001b[0;34m,\u001b[0m \u001b[0mcopy\u001b[0m\u001b[0;34m=\u001b[0m\u001b[0;32mFalse\u001b[0m\u001b[0;34m)\u001b[0m\u001b[0;34m)\u001b[0m\u001b[0;34m\u001b[0m\u001b[0m\n\u001b[1;32m    553\u001b[0m \u001b[0;34m\u001b[0m\u001b[0m\n",
            "\u001b[0;32m~/anaconda3_501/lib/python3.6/site-packages/numpy/linalg/linalg.py\u001b[0m in \u001b[0;36m_raise_linalgerror_singular\u001b[0;34m(err, flag)\u001b[0m\n\u001b[1;32m     95\u001b[0m \u001b[0;34m\u001b[0m\u001b[0m\n\u001b[1;32m     96\u001b[0m \u001b[0;32mdef\u001b[0m \u001b[0m_raise_linalgerror_singular\u001b[0m\u001b[0;34m(\u001b[0m\u001b[0merr\u001b[0m\u001b[0;34m,\u001b[0m \u001b[0mflag\u001b[0m\u001b[0;34m)\u001b[0m\u001b[0;34m:\u001b[0m\u001b[0;34m\u001b[0m\u001b[0m\n\u001b[0;32m---> 97\u001b[0;31m     \u001b[0;32mraise\u001b[0m \u001b[0mLinAlgError\u001b[0m\u001b[0;34m(\u001b[0m\u001b[0;34m\"Singular matrix\"\u001b[0m\u001b[0;34m)\u001b[0m\u001b[0;34m\u001b[0m\u001b[0m\n\u001b[0m\u001b[1;32m     98\u001b[0m \u001b[0;34m\u001b[0m\u001b[0m\n\u001b[1;32m     99\u001b[0m \u001b[0;32mdef\u001b[0m \u001b[0m_raise_linalgerror_nonposdef\u001b[0m\u001b[0;34m(\u001b[0m\u001b[0merr\u001b[0m\u001b[0;34m,\u001b[0m \u001b[0mflag\u001b[0m\u001b[0;34m)\u001b[0m\u001b[0;34m:\u001b[0m\u001b[0;34m\u001b[0m\u001b[0m\n",
            "\u001b[0;31mLinAlgError\u001b[0m: Singular matrix"
          ]
        }
      ]
    },
    {
      "metadata": {},
      "cell_type": "markdown",
      "source": "¿Qué pasó aquí? La matriz E es una matriz singular (es decir, su determinante es nulo), por lo que no es posible invertirla; a esto es que hace referencia el `LinAlgError` que se presenta. "
    },
    {
      "metadata": {
        "trusted": true
      },
      "cell_type": "code",
      "source": "np.linalg.det(E)",
      "execution_count": 63,
      "outputs": [
        {
          "output_type": "execute_result",
          "execution_count": 63,
          "data": {
            "text/plain": "0.0"
          },
          "metadata": {}
        }
      ]
    },
    {
      "metadata": {
        "trusted": true
      },
      "cell_type": "code",
      "source": "np.linalg.inv(F)",
      "execution_count": 62,
      "outputs": [
        {
          "output_type": "execute_result",
          "execution_count": 62,
          "data": {
            "text/plain": "array([[-0.58536585,  0.26829268,  0.25609756],\n       [ 0.2195122 ,  0.02439024, -0.15853659],\n       [ 0.12195122, -0.09756098,  0.13414634]])"
          },
          "metadata": {}
        }
      ]
    },
    {
      "metadata": {
        "trusted": true
      },
      "cell_type": "code",
      "source": "np.linalg.det(F)",
      "execution_count": 64,
      "outputs": [
        {
          "output_type": "execute_result",
          "execution_count": 64,
          "data": {
            "text/plain": "-82.00000000000001"
          },
          "metadata": {}
        }
      ]
    },
    {
      "metadata": {},
      "cell_type": "markdown",
      "source": "## Matplotlib"
    },
    {
      "metadata": {},
      "cell_type": "markdown",
      "source": "Matplotlib, con su módulo `pyplot`, brinda las herramientas requeridas para la elaboración de **gráficos**."
    },
    {
      "metadata": {
        "trusted": true
      },
      "cell_type": "code",
      "source": "import matplotlib.pyplot as plt",
      "execution_count": 65,
      "outputs": []
    },
    {
      "metadata": {
        "trusted": true
      },
      "cell_type": "code",
      "source": "fig, ax = plt.subplots()\nax.set(title = 'Título', xlabel = 'Eje x')\nplt.show()",
      "execution_count": 66,
      "outputs": [
        {
          "output_type": "display_data",
          "data": {
            "image/png": "[encoded data removed]",
            "text/plain": "<Figure size 432x288 with 1 Axes>"
          },
          "metadata": {
            "needs_background": "light"
          }
        }
      ]
    },
    {
      "metadata": {
        "trusted": true
      },
      "cell_type": "code",
      "source": "x = np.arange(0, 50, 0.1)\ny = np.sin(x)",
      "execution_count": 67,
      "outputs": []
    },
    {
      "metadata": {
        "trusted": true
      },
      "cell_type": "code",
      "source": "fig, ax = plt.subplots()\nax.plot(x, y)\nplt.show()",
      "execution_count": 68,
      "outputs": [
        {
          "output_type": "display_data",
          "data": {
            "image/png": "[encoded data removed]",
            "text/plain": "<Figure size 432x288 with 1 Axes>"
          },
          "metadata": {
            "needs_background": "light"
          }
        }
      ]
    },
    {
      "metadata": {
        "trusted": true
      },
      "cell_type": "code",
      "source": "fig, (ax1, ax2) = plt.subplots(1,2, figsize = (10,5))\nax1.plot(x, y, color = 'blue')\nax2.plot(x, np.cos(x), color = 'red')\nplt.show()",
      "execution_count": 69,
      "outputs": [
        {
          "output_type": "display_data",
          "data": {
            "image/png": "[encoded data removed]",
            "text/plain": "<Figure size 720x360 with 2 Axes>"
          },
          "metadata": {
            "needs_background": "light"
          }
        }
      ]
    },
    {
      "metadata": {
        "trusted": true
      },
      "cell_type": "code",
      "source": "fig, ax = plt.subplots()\nax.plot(x, y, color = 'blue')\nax.plot(x, np.cos(x), color = 'red')\nplt.show()",
      "execution_count": 70,
      "outputs": [
        {
          "output_type": "display_data",
          "data": {
            "image/png": "[encoded data removed]",
            "text/plain": "<Figure size 432x288 with 1 Axes>"
          },
          "metadata": {
            "needs_background": "light"
          }
        }
      ]
    },
    {
      "metadata": {},
      "cell_type": "markdown",
      "source": "## Pandas:"
    },
    {
      "metadata": {},
      "cell_type": "markdown",
      "source": "Pandas es la librería que brinda las herramientas óptimas para el manejo y transformación eficiente de los **datos**."
    },
    {
      "metadata": {
        "trusted": true
      },
      "cell_type": "code",
      "source": "import pandas as pd",
      "execution_count": 71,
      "outputs": []
    },
    {
      "metadata": {
        "trusted": true
      },
      "cell_type": "code",
      "source": "np.random.seed(20)\nIntercepto = np.repeat(1, 100)\nEdad = np.random.normal(30, 4, 100).astype(int)\nIngreso = np.random.normal(4, 1.5, 100)",
      "execution_count": 72,
      "outputs": []
    },
    {
      "metadata": {
        "trusted": true
      },
      "cell_type": "code",
      "source": "# Estadística descriptiva:\nprint(len(Edad))\nprint(np.mean(Edad))\nprint(np.std(Edad))\nprint(np.max(Edad))\nprint(np.min(Edad))",
      "execution_count": 73,
      "outputs": [
        {
          "output_type": "stream",
          "text": "100\n29.33\n4.294310189075773\n38\n17\n",
          "name": "stdout"
        }
      ]
    },
    {
      "metadata": {
        "trusted": true
      },
      "cell_type": "code",
      "source": "Serie_Edad = pd.Series(Edad)",
      "execution_count": 74,
      "outputs": []
    },
    {
      "metadata": {
        "trusted": true
      },
      "cell_type": "code",
      "source": "Serie_Edad.describe()",
      "execution_count": 75,
      "outputs": [
        {
          "output_type": "execute_result",
          "execution_count": 75,
          "data": {
            "text/plain": "count    100.000000\nmean      29.330000\nstd        4.315944\nmin       17.000000\n25%       26.000000\n50%       30.000000\n75%       32.000000\nmax       38.000000\ndtype: float64"
          },
          "metadata": {}
        }
      ]
    },
    {
      "metadata": {
        "trusted": true
      },
      "cell_type": "code",
      "source": "data = pd.DataFrame({'Intercepto': Intercepto, 'Edad': Edad, 'Ingreso': Ingreso})",
      "execution_count": 76,
      "outputs": []
    },
    {
      "metadata": {
        "trusted": true
      },
      "cell_type": "code",
      "source": "np.random.seed(20)\nErrores = np.random.normal(0, 0.07, 100)\nprint(min(Errores))\nprint(max(Errores))",
      "execution_count": 77,
      "outputs": [
        {
          "output_type": "stream",
          "text": "-0.2232791952457684\n0.14662657366577117\n",
          "name": "stdout"
        }
      ]
    },
    {
      "metadata": {
        "trusted": true
      },
      "cell_type": "code",
      "source": "Gasto = 0.5 + (Ingreso * 0.35) + (0.1 * Edad) + Errores",
      "execution_count": 78,
      "outputs": []
    },
    {
      "metadata": {
        "trusted": true
      },
      "cell_type": "code",
      "source": "data['Gasto'] = Gasto",
      "execution_count": 79,
      "outputs": []
    },
    {
      "metadata": {
        "trusted": true
      },
      "cell_type": "code",
      "source": "data.head()",
      "execution_count": 80,
      "outputs": [
        {
          "output_type": "execute_result",
          "execution_count": 80,
          "data": {
            "text/html": "<div>\n<style scoped>\n    .dataframe tbody tr th:only-of-type {\n        vertical-align: middle;\n    }\n\n    .dataframe tbody tr th {\n        vertical-align: top;\n    }\n\n    .dataframe thead th {\n        text-align: right;\n    }\n</style>\n<table border=\"1\" class=\"dataframe\">\n  <thead>\n    <tr style=\"text-align: right;\">\n      <th></th>\n      <th>Intercepto</th>\n      <th>Edad</th>\n      <th>Ingreso</th>\n      <th>Gasto</th>\n    </tr>\n  </thead>\n  <tbody>\n    <tr>\n      <th>0</th>\n      <td>1</td>\n      <td>33</td>\n      <td>3.201881</td>\n      <td>4.982531</td>\n    </tr>\n    <tr>\n      <th>1</th>\n      <td>1</td>\n      <td>30</td>\n      <td>5.688638</td>\n      <td>5.504734</td>\n    </tr>\n    <tr>\n      <th>2</th>\n      <td>1</td>\n      <td>31</td>\n      <td>4.327987</td>\n      <td>5.139823</td>\n    </tr>\n    <tr>\n      <th>3</th>\n      <td>1</td>\n      <td>20</td>\n      <td>3.410677</td>\n      <td>3.529709</td>\n    </tr>\n    <tr>\n      <th>4</th>\n      <td>1</td>\n      <td>25</td>\n      <td>3.656954</td>\n      <td>4.203996</td>\n    </tr>\n  </tbody>\n</table>\n</div>",
            "text/plain": "   Intercepto  Edad   Ingreso     Gasto\n0           1    33  3.201881  4.982531\n1           1    30  5.688638  5.504734\n2           1    31  4.327987  5.139823\n3           1    20  3.410677  3.529709\n4           1    25  3.656954  4.203996"
          },
          "metadata": {}
        }
      ]
    },
    {
      "metadata": {
        "trusted": true
      },
      "cell_type": "code",
      "source": "data.describe()",
      "execution_count": 81,
      "outputs": [
        {
          "output_type": "execute_result",
          "execution_count": 81,
          "data": {
            "text/html": "<div>\n<style scoped>\n    .dataframe tbody tr th:only-of-type {\n        vertical-align: middle;\n    }\n\n    .dataframe tbody tr th {\n        vertical-align: top;\n    }\n\n    .dataframe thead th {\n        text-align: right;\n    }\n</style>\n<table border=\"1\" class=\"dataframe\">\n  <thead>\n    <tr style=\"text-align: right;\">\n      <th></th>\n      <th>Intercepto</th>\n      <th>Edad</th>\n      <th>Ingreso</th>\n      <th>Gasto</th>\n    </tr>\n  </thead>\n  <tbody>\n    <tr>\n      <th>count</th>\n      <td>100.0</td>\n      <td>100.000000</td>\n      <td>100.000000</td>\n      <td>100.000000</td>\n    </tr>\n    <tr>\n      <th>mean</th>\n      <td>1.0</td>\n      <td>29.330000</td>\n      <td>4.130040</td>\n      <td>4.874697</td>\n    </tr>\n    <tr>\n      <th>std</th>\n      <td>0.0</td>\n      <td>4.315944</td>\n      <td>1.507633</td>\n      <td>0.697807</td>\n    </tr>\n    <tr>\n      <th>min</th>\n      <td>1.0</td>\n      <td>17.000000</td>\n      <td>0.226969</td>\n      <td>3.129861</td>\n    </tr>\n    <tr>\n      <th>25%</th>\n      <td>1.0</td>\n      <td>26.000000</td>\n      <td>3.271485</td>\n      <td>4.435904</td>\n    </tr>\n    <tr>\n      <th>50%</th>\n      <td>1.0</td>\n      <td>30.000000</td>\n      <td>4.172339</td>\n      <td>4.917571</td>\n    </tr>\n    <tr>\n      <th>75%</th>\n      <td>1.0</td>\n      <td>32.000000</td>\n      <td>5.215822</td>\n      <td>5.349719</td>\n    </tr>\n    <tr>\n      <th>max</th>\n      <td>1.0</td>\n      <td>38.000000</td>\n      <td>7.014852</td>\n      <td>6.237996</td>\n    </tr>\n  </tbody>\n</table>\n</div>",
            "text/plain": "       Intercepto        Edad     Ingreso       Gasto\ncount       100.0  100.000000  100.000000  100.000000\nmean          1.0   29.330000    4.130040    4.874697\nstd           0.0    4.315944    1.507633    0.697807\nmin           1.0   17.000000    0.226969    3.129861\n25%           1.0   26.000000    3.271485    4.435904\n50%           1.0   30.000000    4.172339    4.917571\n75%           1.0   32.000000    5.215822    5.349719\nmax           1.0   38.000000    7.014852    6.237996"
          },
          "metadata": {}
        }
      ]
    },
    {
      "metadata": {
        "trusted": true
      },
      "cell_type": "code",
      "source": "data.info()",
      "execution_count": 82,
      "outputs": [
        {
          "output_type": "stream",
          "text": "<class 'pandas.core.frame.DataFrame'>\nRangeIndex: 100 entries, 0 to 99\nData columns (total 4 columns):\nIntercepto    100 non-null int64\nEdad          100 non-null int64\nIngreso       100 non-null float64\nGasto         100 non-null float64\ndtypes: float64(2), int64(2)\nmemory usage: 3.2 KB\n",
          "name": "stdout"
        }
      ]
    },
    {
      "metadata": {
        "trusted": true
      },
      "cell_type": "code",
      "source": "fig, (ax1, ax2) = plt.subplots(1,2, figsize = (10,5))\nax1.scatter(data['Edad'], data['Gasto'], color = 'blue')\nax2.scatter(data['Ingreso'], data['Gasto'], color = 'red')\nplt.show()",
      "execution_count": 83,
      "outputs": [
        {
          "output_type": "display_data",
          "data": {
            "image/png": "[encoded data removed]",
            "text/plain": "<Figure size 720x360 with 2 Axes>"
          },
          "metadata": {
            "needs_background": "light"
          }
        }
      ]
    },
    {
      "metadata": {},
      "cell_type": "markdown",
      "source": "### Selección (corchetes, `.loc`, `.iloc`)"
    },
    {
      "metadata": {
        "trusted": true
      },
      "cell_type": "code",
      "source": "data['Ingreso']",
      "execution_count": 84,
      "outputs": [
        {
          "output_type": "execute_result",
          "execution_count": 84,
          "data": {
            "text/plain": "0     3.201881\n1     5.688638\n2     4.327987\n3     3.410677\n4     3.656954\n5     1.635618\n6     4.248750\n7     5.183195\n8     1.057162\n9     1.221943\n10    5.637830\n11    5.401886\n12    2.932322\n13    6.164625\n14    5.128470\n15    1.997619\n16    5.014960\n17    5.246659\n18    3.452414\n19    4.745155\n20    4.434339\n21    3.294686\n22    6.408989\n23    3.769507\n24    1.320747\n25    3.832514\n26    6.306466\n27    2.452551\n28    3.841280\n29    7.014852\n        ...   \n70    5.355195\n71    1.682261\n72    6.162217\n73    4.403248\n74    4.643581\n75    4.654583\n76    3.342610\n77    6.130748\n78    6.933148\n79    3.412637\n80    4.181083\n81    4.621038\n82    6.049759\n83    1.955170\n84    4.023480\n85    5.356990\n86    2.789648\n87    2.940534\n88    5.579338\n89    3.859793\n90    1.841574\n91    3.533097\n92    5.208504\n93    3.981174\n94    3.608766\n95    2.665783\n96    1.576151\n97    2.722053\n98    3.938230\n99    3.594510\nName: Ingreso, Length: 100, dtype: float64"
          },
          "metadata": {}
        }
      ]
    },
    {
      "metadata": {
        "trusted": true
      },
      "cell_type": "code",
      "source": "data.loc[0:10, 'Ingreso']",
      "execution_count": 85,
      "outputs": [
        {
          "output_type": "execute_result",
          "execution_count": 85,
          "data": {
            "text/plain": "0     3.201881\n1     5.688638\n2     4.327987\n3     3.410677\n4     3.656954\n5     1.635618\n6     4.248750\n7     5.183195\n8     1.057162\n9     1.221943\n10    5.637830\nName: Ingreso, dtype: float64"
          },
          "metadata": {}
        }
      ]
    },
    {
      "metadata": {
        "trusted": true
      },
      "cell_type": "code",
      "source": "data.iloc[0:10, 1]",
      "execution_count": 86,
      "outputs": [
        {
          "output_type": "execute_result",
          "execution_count": 86,
          "data": {
            "text/plain": "0    33\n1    30\n2    31\n3    20\n4    25\n5    32\n6    33\n7    26\n8    32\n9    31\nName: Edad, dtype: int64"
          },
          "metadata": {}
        }
      ]
    },
    {
      "metadata": {},
      "cell_type": "markdown",
      "source": "# Estimación econométrica"
    },
    {
      "metadata": {},
      "cell_type": "markdown",
      "source": "Podemos diseñar los métodos de estimación por nuestra cuenta:"
    },
    {
      "metadata": {
        "trusted": true
      },
      "cell_type": "code",
      "source": "def EstimadoresMCO(X,Y):\n    XTX_menos_uno = np.linalg.inv(X.T.dot(X))\n    XTY = X.T.dot(Y)\n    Estimadores = XTX_menos_uno.dot(XTY)\n    Estimadores = pd.DataFrame(Estimadores, columns = ['Coeficiente'], index = X.columns)\n    return(Estimadores)",
      "execution_count": 87,
      "outputs": []
    },
    {
      "metadata": {
        "trusted": true
      },
      "cell_type": "code",
      "source": "X = data[['Intercepto', 'Ingreso', 'Edad']]\nY = data['Gasto']\nEstimadoresMCO(X, Y)",
      "execution_count": 88,
      "outputs": [
        {
          "output_type": "execute_result",
          "execution_count": 88,
          "data": {
            "text/html": "<div>\n<style scoped>\n    .dataframe tbody tr th:only-of-type {\n        vertical-align: middle;\n    }\n\n    .dataframe tbody tr th {\n        vertical-align: top;\n    }\n\n    .dataframe thead th {\n        text-align: right;\n    }\n</style>\n<table border=\"1\" class=\"dataframe\">\n  <thead>\n    <tr style=\"text-align: right;\">\n      <th></th>\n      <th>Coeficiente</th>\n    </tr>\n  </thead>\n  <tbody>\n    <tr>\n      <th>Intercepto</th>\n      <td>-0.018097</td>\n    </tr>\n    <tr>\n      <th>Ingreso</th>\n      <td>0.350500</td>\n    </tr>\n    <tr>\n      <th>Edad</th>\n      <td>0.117464</td>\n    </tr>\n  </tbody>\n</table>\n</div>",
            "text/plain": "            Coeficiente\nIntercepto    -0.018097\nIngreso        0.350500\nEdad           0.117464"
          },
          "metadata": {}
        }
      ]
    },
    {
      "metadata": {},
      "cell_type": "markdown",
      "source": "Pero diseñar cada función a emplear no es necesario (ni práctico)... Hay una librería que brinda un conjunto muy completo de herramientas para llevar a cabo estimación econométrica: **Statsmodels**."
    },
    {
      "metadata": {},
      "cell_type": "markdown",
      "source": "## Statsmodels"
    },
    {
      "metadata": {
        "trusted": true
      },
      "cell_type": "code",
      "source": "import statsmodels.api as sm",
      "execution_count": 89,
      "outputs": []
    },
    {
      "metadata": {
        "trusted": true
      },
      "cell_type": "code",
      "source": "Modelo = sm.OLS(Y, X)\nResultados = Modelo.fit()\nprint(Resultados.summary())",
      "execution_count": 90,
      "outputs": [
        {
          "output_type": "stream",
          "text": "                            OLS Regression Results                            \n==============================================================================\nDep. Variable:                  Gasto   R-squared:                       1.000\nModel:                            OLS   Adj. R-squared:                  1.000\nMethod:                 Least Squares   F-statistic:                 1.047e+06\nDate:                Sat, 22 Feb 2020   Prob (F-statistic):          6.30e-211\nTime:                        18:21:07   Log-Likelihood:                 393.56\nNo. Observations:                 100   AIC:                            -781.1\nDf Residuals:                      97   BIC:                            -773.3\nDf Model:                           2                                         \nCovariance Type:            nonrobust                                         \n==============================================================================\n                 coef    std err          t      P>|t|      [0.025      0.975]\n------------------------------------------------------------------------------\nIntercepto    -0.0181      0.004     -4.902      0.000      -0.025      -0.011\nIngreso        0.3505      0.000   1090.950      0.000       0.350       0.351\nEdad           0.1175      0.000   1046.649      0.000       0.117       0.118\n==============================================================================\nOmnibus:                        9.829   Durbin-Watson:                   2.155\nProb(Omnibus):                  0.007   Jarque-Bera (JB):                3.824\nSkew:                           0.153   Prob(JB):                        0.148\nKurtosis:                       2.092   Cond. No.                         231.\n==============================================================================\n\nWarnings:\n[1] Standard Errors assume that the covariance matrix of the errors is correctly specified.\n",
          "name": "stdout"
        }
      ]
    }
  ],
  "metadata": {
    "kernelspec": {
      "name": "python36",
      "display_name": "Python 3.6",
      "language": "python"
    },
    "language_info": {
      "mimetype": "text/x-python",
      "nbconvert_exporter": "python",
      "name": "python",
      "pygments_lexer": "ipython3",
      "version": "3.6.6",
      "file_extension": ".py",
      "codemirror_mode": {
        "version": 3,
        "name": "ipython"
      }
    }
  },
  "nbformat": 4,
  "nbformat_minor": 2
}